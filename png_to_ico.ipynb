{
 "cells": [
  {
   "cell_type": "code",
   "execution_count": null,
   "id": "569af22b-31bd-432a-bb99-6afd71744de3",
   "metadata": {},
   "outputs": [],
   "source": [
    "from PIL import Image\n",
    "import os\n",
    "\n",
    "def convert_png_to_ico(png_filename, ico_filename=None, sizes=[(32, 32)]):\n",
    "    \"\"\"\n",
    "    Конвертирует PNG в ICO формате\n",
    "    \n",
    "    Параметры:\n",
    "        png_filename: имя исходного PNG-файла\n",
    "        ico_filename: имя выходного ICO-файла (если None, будет то же имя что у PNG)\n",
    "        sizes: список кортежей с размерами иконки [(width, height), ...]\n",
    "    \"\"\"\n",
    "    try:\n",
    "        # Если имя ICO не указано, используем то же имя что у PNG\n",
    "        if ico_filename is None:\n",
    "            base_name = os.path.splitext(png_filename)[0]\n",
    "            ico_filename = f\"{base_name}.ico\"\n",
    "        \n",
    "        # Открываем изображение\n",
    "        img = Image.open(png_filename)\n",
    "        \n",
    "        # Конвертируем в ICO\n",
    "        img.save(ico_filename, format='ICO', sizes=sizes)\n",
    "        \n",
    "        print(f\"✅ Успешно сохранено как: {ico_filename}\")\n",
    "        return True\n",
    "    \n",
    "    except Exception as e:\n",
    "        print(f\"❌ Ошибка конвертации: {e}\")\n",
    "        return False\n",
    "\n",
    "# Пример использования:\n",
    "# Конвертируем image.png в image.ico с размером 32x32\n",
    "convert_png_to_ico(\"icon.png\")\n",
    "\n",
    "# Вариант с указанием имени и нескольких размеров\n",
    "# convert_png_to_ico(\"input.png\", \"output.ico\", sizes=[(16,16), (32,32), (48,48)])"
   ]
  }
 ],
 "metadata": {
  "kernelspec": {
   "display_name": "Python [conda env:base] *",
   "language": "python",
   "name": "conda-base-py"
  },
  "language_info": {
   "codemirror_mode": {
    "name": "ipython",
    "version": 3
   },
   "file_extension": ".py",
   "mimetype": "text/x-python",
   "name": "python",
   "nbconvert_exporter": "python",
   "pygments_lexer": "ipython3",
   "version": "3.13.5"
  }
 },
 "nbformat": 4,
 "nbformat_minor": 5
}
